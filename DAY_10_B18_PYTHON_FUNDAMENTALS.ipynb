{
 "cells": [
  {
   "cell_type": "code",
   "execution_count": null,
   "metadata": {},
   "outputs": [],
   "source": [
    "# Introduction to WHILE Loop:"
   ]
  },
  {
   "cell_type": "code",
   "execution_count": null,
   "metadata": {},
   "outputs": [],
   "source": [
    "# Whileloop:---> while:-->"
   ]
  },
  {
   "cell_type": "code",
   "execution_count": null,
   "metadata": {},
   "outputs": [],
   "source": [
    "# It dependa upon the condition, it will be executing..."
   ]
  },
  {
   "cell_type": "code",
   "execution_count": 4,
   "metadata": {},
   "outputs": [
    {
     "name": "stdout",
     "output_type": "stream",
     "text": [
      "1\n",
      "2\n",
      "3\n",
      "4\n",
      "5\n"
     ]
    }
   ],
   "source": [
    "current_number = 1 #Starting point\n",
    "while current_number <= 5: #It should accept till 5.\n",
    "    print(current_number)\n",
    "    current_number +=1 # current_number = current_number + 1, \n",
    "    \n",
    "#the logic will be true upto 5, once it exceed it fail and come out from loop."
   ]
  },
  {
   "cell_type": "code",
   "execution_count": 7,
   "metadata": {},
   "outputs": [
    {
     "name": "stdout",
     "output_type": "stream",
     "text": [
      "1\n",
      "2\n",
      "3\n",
      "4\n",
      "5\n",
      "6\n",
      "7\n",
      "8\n",
      "9\n",
      "10\n"
     ]
    }
   ],
   "source": [
    "current_number = 1 #Starting point\n",
    "while current_number <=10: #It should accept till 5.\n",
    "    print(current_number)\n",
    "    current_number +=1 # current_number = current_number + 1, \n",
    "#first value always it print then value will increment and store in the var,"
   ]
  },
  {
   "cell_type": "code",
   "execution_count": null,
   "metadata": {},
   "outputs": [],
   "source": []
  },
  {
   "cell_type": "code",
   "execution_count": null,
   "metadata": {},
   "outputs": [],
   "source": [
    "# How to make interactive :"
   ]
  },
  {
   "cell_type": "code",
   "execution_count": 1,
   "metadata": {},
   "outputs": [
    {
     "name": "stdout",
     "output_type": "stream",
     "text": [
      "\n",
      "Tell me something, and i will repeat for you\n",
      "Enter 'quit to end the program' Hello\n",
      "\n",
      "Tell me something, and i will repeat for you\n",
      "Enter 'quit to end the program' Wlcome\n",
      "\n",
      "Tell me something, and i will repeat for you\n",
      "Enter 'quit to end the program' QUIT\n",
      "\n",
      "Tell me something, and i will repeat for you\n",
      "Enter 'quit to end the program' quit\n",
      "quit\n"
     ]
    }
   ],
   "source": [
    "prompt = \"\\nTell me something, and i will repeat for you\"\n",
    "\n",
    "prompt += \"\\nEnter 'quit to end the program' \"\n",
    "\n",
    "message = \" \"\n",
    "\n",
    "while message != 'quit':\n",
    "\n",
    "    message = input(prompt)\n",
    "\n",
    "print(message)"
   ]
  },
  {
   "cell_type": "code",
   "execution_count": null,
   "metadata": {},
   "outputs": [],
   "source": []
  },
  {
   "cell_type": "code",
   "execution_count": null,
   "metadata": {},
   "outputs": [],
   "source": [
    "# Using break to exit a LOOP:"
   ]
  },
  {
   "cell_type": "code",
   "execution_count": 5,
   "metadata": {},
   "outputs": [
    {
     "name": "stdout",
     "output_type": "stream",
     "text": [
      "\n",
      "Please eneter the name of the city ,which you have visited\n",
      "Enter 'quit when you are finished' Delhi\n",
      "I'd love to go to Delhi!\n",
      "\n",
      "Please eneter the name of the city ,which you have visited\n",
      "Enter 'quit when you are finished' Hyd\n",
      "I'd love to go to Hyd!\n",
      "\n",
      "Please eneter the name of the city ,which you have visited\n",
      "Enter 'quit when you are finished' mumbai\n",
      "I'd love to go to Mumbai!\n",
      "\n",
      "Please eneter the name of the city ,which you have visited\n",
      "Enter 'quit when you are finished' quit\n"
     ]
    }
   ],
   "source": [
    "prompt = \"\\nPlease eneter the name of the city ,which you have visited\"\n",
    "\n",
    "prompt += \"\\nEnter 'quit when you are finished' \"\n",
    "\n",
    "while True: # We need to type in this 'True' in upper case\n",
    "    city = input(prompt)\n",
    "    if city == 'quit':\n",
    "        break\n",
    "    else:\n",
    "            print(f\"I'd love to go to {city.title()}!\")"
   ]
  },
  {
   "cell_type": "code",
   "execution_count": null,
   "metadata": {},
   "outputs": [],
   "source": [
    "#Funtion:"
   ]
  },
  {
   "cell_type": "code",
   "execution_count": null,
   "metadata": {},
   "outputs": [],
   "source": [
    "# Introduction to Function in Python:"
   ]
  },
  {
   "cell_type": "code",
   "execution_count": null,
   "metadata": {},
   "outputs": [],
   "source": [
    "# Understanding to the concept of the code reusability:"
   ]
  },
  {
   "cell_type": "code",
   "execution_count": null,
   "metadata": {},
   "outputs": [],
   "source": [
    "# How to define Function: def"
   ]
  },
  {
   "cell_type": "code",
   "execution_count": null,
   "metadata": {},
   "outputs": [],
   "source": [
    "# def:-->For defining a funtion"
   ]
  },
  {
   "cell_type": "code",
   "execution_count": null,
   "metadata": {},
   "outputs": [],
   "source": [
    "# Req: Design a function to display a greeting message:"
   ]
  },
  {
   "cell_type": "code",
   "execution_count": 28,
   "metadata": {},
   "outputs": [],
   "source": [
    "def greet_user():# defining a function\n",
    "    \"\"\"Displaying a simple greeting\"\"\"#Doc String triple\n",
    "    print('Hello')# Displaying a greeting message\n",
    "    greet_user() # Function Call:"
   ]
  },
  {
   "cell_type": "code",
   "execution_count": null,
   "metadata": {},
   "outputs": [],
   "source": []
  },
  {
   "cell_type": "code",
   "execution_count": 29,
   "metadata": {},
   "outputs": [],
   "source": [
    "#Enhancement of the code:"
   ]
  },
  {
   "cell_type": "code",
   "execution_count": 30,
   "metadata": {},
   "outputs": [],
   "source": [
    "# Define a function to greet the user:"
   ]
  },
  {
   "cell_type": "code",
   "execution_count": 31,
   "metadata": {},
   "outputs": [],
   "source": [
    "def greet_user(username):\n",
    "    \"Display simple greeting to the user\"\n",
    "    print(f\"Hello, good to see you back {username.title()}!\")"
   ]
  },
  {
   "cell_type": "code",
   "execution_count": null,
   "metadata": {},
   "outputs": [],
   "source": []
  },
  {
   "cell_type": "code",
   "execution_count": 32,
   "metadata": {},
   "outputs": [
    {
     "name": "stdout",
     "output_type": "stream",
     "text": [
      "Hello, good to see you back Satya!\n"
     ]
    }
   ],
   "source": [
    "greet_user('satya')"
   ]
  },
  {
   "cell_type": "code",
   "execution_count": 33,
   "metadata": {},
   "outputs": [
    {
     "name": "stdout",
     "output_type": "stream",
     "text": [
      "Hello, good to see you back Devi!\n"
     ]
    }
   ],
   "source": [
    "greet_user('devi')"
   ]
  },
  {
   "cell_type": "code",
   "execution_count": 34,
   "metadata": {},
   "outputs": [
    {
     "name": "stdout",
     "output_type": "stream",
     "text": [
      "Hello, good to see you back Vijaylaxmi!\n"
     ]
    }
   ],
   "source": [
    "greet_user('Vijaylaxmi')"
   ]
  },
  {
   "cell_type": "code",
   "execution_count": null,
   "metadata": {},
   "outputs": [],
   "source": []
  },
  {
   "cell_type": "code",
   "execution_count": null,
   "metadata": {},
   "outputs": [],
   "source": []
  },
  {
   "cell_type": "code",
   "execution_count": null,
   "metadata": {},
   "outputs": [],
   "source": []
  }
 ],
 "metadata": {
  "kernelspec": {
   "display_name": "Python 3",
   "language": "python",
   "name": "python3"
  },
  "language_info": {
   "codemirror_mode": {
    "name": "ipython",
    "version": 3
   },
   "file_extension": ".py",
   "mimetype": "text/x-python",
   "name": "python",
   "nbconvert_exporter": "python",
   "pygments_lexer": "ipython3",
   "version": "3.7.6"
  }
 },
 "nbformat": 4,
 "nbformat_minor": 4
}
