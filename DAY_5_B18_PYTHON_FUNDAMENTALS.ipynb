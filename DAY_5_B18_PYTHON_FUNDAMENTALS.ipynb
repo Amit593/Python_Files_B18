{
 "cells": [
  {
   "cell_type": "code",
   "execution_count": 2,
   "metadata": {},
   "outputs": [],
   "source": [
    "my_students = ['devi','naresh','satya','neha','vijaylaxmi','malveeca','adil','amit','mahesh']"
   ]
  },
  {
   "cell_type": "code",
   "execution_count": 3,
   "metadata": {},
   "outputs": [
    {
     "name": "stdout",
     "output_type": "stream",
     "text": [
      "['devi', 'naresh', 'satya', 'neha', 'vijaylaxmi', 'malveeca', 'adil', 'amit', 'mahesh']\n"
     ]
    }
   ],
   "source": [
    "print(my_students)"
   ]
  },
  {
   "cell_type": "code",
   "execution_count": null,
   "metadata": {},
   "outputs": [],
   "source": [
    "#General syntax:"
   ]
  },
  {
   "cell_type": "code",
   "execution_count": null,
   "metadata": {},
   "outputs": [],
   "source": [
    "# tempvar(anyname) in my_students;"
   ]
  },
  {
   "cell_type": "code",
   "execution_count": null,
   "metadata": {},
   "outputs": [],
   "source": [
    "# print(tempvar)------Indentation"
   ]
  },
  {
   "cell_type": "code",
   "execution_count": 5,
   "metadata": {},
   "outputs": [
    {
     "name": "stdout",
     "output_type": "stream",
     "text": [
      "devi\n",
      "naresh\n",
      "satya\n",
      "neha\n",
      "vijaylaxmi\n",
      "malveeca\n",
      "adil\n",
      "amit\n",
      "mahesh\n"
     ]
    }
   ],
   "source": [
    "for tempvar in my_students:\n",
    "    print(tempvar)"
   ]
  },
  {
   "cell_type": "code",
   "execution_count": 6,
   "metadata": {},
   "outputs": [
    {
     "name": "stdout",
     "output_type": "stream",
     "text": [
      "devi\n",
      "naresh\n",
      "satya\n",
      "neha\n",
      "vijaylaxmi\n",
      "malveeca\n",
      "adil\n",
      "amit\n",
      "mahesh\n"
     ]
    }
   ],
   "source": [
    "for student in my_students:\n",
    "    print(student)"
   ]
  },
  {
   "cell_type": "code",
   "execution_count": 7,
   "metadata": {},
   "outputs": [
    {
     "name": "stdout",
     "output_type": "stream",
     "text": [
      "devi\n",
      "naresh\n",
      "satya\n",
      "neha\n",
      "vijaylaxmi\n",
      "malveeca\n",
      "adil\n",
      "amit\n",
      "mahesh\n"
     ]
    }
   ],
   "source": [
    "for x in my_students:\n",
    "    print(x)"
   ]
  },
  {
   "cell_type": "code",
   "execution_count": null,
   "metadata": {},
   "outputs": [],
   "source": [
    "# How to automate the process:"
   ]
  },
  {
   "cell_type": "code",
   "execution_count": 8,
   "metadata": {},
   "outputs": [
    {
     "name": "stdout",
     "output_type": "stream",
     "text": [
      "keep up the good work, Devi\n",
      "keep up the good work, Naresh\n",
      "keep up the good work, Satya\n",
      "keep up the good work, Neha\n",
      "keep up the good work, Vijaylaxmi\n",
      "keep up the good work, Malveeca\n",
      "keep up the good work, Adil\n",
      "keep up the good work, Amit\n",
      "keep up the good work, Mahesh\n"
     ]
    }
   ],
   "source": [
    "for x in my_students:\n",
    "    print(f\"keep up the good work, {x.title()}\") #Why we are using curly braces here inside print command.---If we use simple brace inside print command for displaying list , \n",
    "    #it will work as string/message"
   ]
  },
  {
   "cell_type": "code",
   "execution_count": 11,
   "metadata": {},
   "outputs": [
    {
     "name": "stdout",
     "output_type": "stream",
     "text": [
      "keep up the good work, (my_students[0].title())\n",
      "keep up the good work, (my_students[0].title())\n",
      "keep up the good work, (my_students[0].title())\n",
      "keep up the good work, (my_students[0].title())\n",
      "keep up the good work, (my_students[0].title())\n",
      "keep up the good work, (my_students[0].title())\n",
      "keep up the good work, (my_students[0].title())\n",
      "keep up the good work, (my_students[0].title())\n",
      "keep up the good work, (my_students[0].title())\n"
     ]
    }
   ],
   "source": [
    "for x in my_students:\n",
    "    print(f\"keep up the good work, (my_students[0].title())\")"
   ]
  },
  {
   "cell_type": "code",
   "execution_count": 12,
   "metadata": {},
   "outputs": [
    {
     "name": "stdout",
     "output_type": "stream",
     "text": [
      "keep up the good work, Devi\n",
      "keep up the good work, Devi\n",
      "keep up the good work, Devi\n",
      "keep up the good work, Devi\n",
      "keep up the good work, Devi\n",
      "keep up the good work, Devi\n",
      "keep up the good work, Devi\n",
      "keep up the good work, Devi\n",
      "keep up the good work, Devi\n"
     ]
    }
   ],
   "source": [
    "for x in my_students:\n",
    "    print(f\"keep up the good work, {my_students[0].title()}\")"
   ]
  },
  {
   "cell_type": "code",
   "execution_count": null,
   "metadata": {},
   "outputs": [],
   "source": [
    "# How to send greeting to my all customers by automated the process"
   ]
  },
  {
   "cell_type": "code",
   "execution_count": null,
   "metadata": {},
   "outputs": [],
   "source": []
  },
  {
   "cell_type": "code",
   "execution_count": null,
   "metadata": {},
   "outputs": [],
   "source": [
    "# FOR LOOP"
   ]
  },
  {
   "cell_type": "code",
   "execution_count": 13,
   "metadata": {},
   "outputs": [],
   "source": [
    "# Enhancement of the code:"
   ]
  },
  {
   "cell_type": "code",
   "execution_count": null,
   "metadata": {},
   "outputs": [],
   "source": [
    "# Req: How teacher can check assignment and send to all student:"
   ]
  },
  {
   "cell_type": "code",
   "execution_count": 16,
   "metadata": {},
   "outputs": [
    {
     "name": "stdout",
     "output_type": "stream",
     "text": [
      "keep up the good work, Devi\n",
      "keep up the good work, Naresh\n",
      "keep up the good work, Satya\n",
      "keep up the good work, Neha\n",
      "keep up the good work, Vijaylaxmi\n",
      "keep up the good work, Malveeca\n",
      "keep up the good work, Adil\n",
      "keep up the good work, Amit\n",
      "keep up the good work, Mahesh\n"
     ]
    }
   ],
   "source": [
    "for x in my_students:\n",
    "     print(f\"keep up the good work, {x.title()}\")"
   ]
  },
  {
   "cell_type": "code",
   "execution_count": 17,
   "metadata": {},
   "outputs": [
    {
     "name": "stdout",
     "output_type": "stream",
     "text": [
      "looking forward to receiving your practice set for today as well, Devi\n",
      "looking forward to receiving your practice set for today as well, Naresh\n",
      "looking forward to receiving your practice set for today as well, Satya\n",
      "looking forward to receiving your practice set for today as well, Neha\n",
      "looking forward to receiving your practice set for today as well, Vijaylaxmi\n",
      "looking forward to receiving your practice set for today as well, Malveeca\n",
      "looking forward to receiving your practice set for today as well, Adil\n",
      "looking forward to receiving your practice set for today as well, Amit\n",
      "looking forward to receiving your practice set for today as well, Mahesh\n"
     ]
    }
   ],
   "source": [
    "for x in my_students:\n",
    "        print(f\"looking forward to receiving your practice set for today as well, {x.title()}\")"
   ]
  },
  {
   "cell_type": "code",
   "execution_count": null,
   "metadata": {},
   "outputs": [],
   "source": [
    "# Further enhancement of the code:"
   ]
  },
  {
   "cell_type": "code",
   "execution_count": 19,
   "metadata": {},
   "outputs": [
    {
     "name": "stdout",
     "output_type": "stream",
     "text": [
      "looking forward to receiving your practice set for today as well, Devi.\n",
      "\n",
      "looking forward to receiving your practice set for today as well, Naresh.\n",
      "\n",
      "looking forward to receiving your practice set for today as well, Satya.\n",
      "\n",
      "looking forward to receiving your practice set for today as well, Neha.\n",
      "\n",
      "looking forward to receiving your practice set for today as well, Vijaylaxmi.\n",
      "\n",
      "looking forward to receiving your practice set for today as well, Malveeca.\n",
      "\n",
      "looking forward to receiving your practice set for today as well, Adil.\n",
      "\n",
      "looking forward to receiving your practice set for today as well, Amit.\n",
      "\n",
      "looking forward to receiving your practice set for today as well, Mahesh.\n",
      "\n"
     ]
    }
   ],
   "source": [
    "for x in my_students:\n",
    "        print(f\"looking forward to receiving your practice set for today as well, {x.title()}.\\n\") #\\n--new line"
   ]
  },
  {
   "cell_type": "code",
   "execution_count": null,
   "metadata": {},
   "outputs": [],
   "source": []
  },
  {
   "cell_type": "code",
   "execution_count": 20,
   "metadata": {},
   "outputs": [],
   "source": [
    "#Introduction to IF condition:"
   ]
  },
  {
   "cell_type": "code",
   "execution_count": null,
   "metadata": {},
   "outputs": [],
   "source": [
    "# Rain: Occurance of an event:"
   ]
  },
  {
   "cell_type": "code",
   "execution_count": 21,
   "metadata": {},
   "outputs": [],
   "source": [
    "# Event of happing rain:"
   ]
  },
  {
   "cell_type": "code",
   "execution_count": null,
   "metadata": {},
   "outputs": [],
   "source": [
    "#If it is raining outside ,i will be at home and if not:"
   ]
  },
  {
   "cell_type": "code",
   "execution_count": null,
   "metadata": {},
   "outputs": [],
   "source": [
    "# Req: If we are going to receive bmw, then we have to print in capital letter.\n",
    "\n",
    "# For other brand, we have to print in titlecase."
   ]
  },
  {
   "cell_type": "code",
   "execution_count": 23,
   "metadata": {},
   "outputs": [],
   "source": [
    "cars = ['audi','maruti','toyota','benz','bmw']\n"
   ]
  },
  {
   "cell_type": "code",
   "execution_count": 56,
   "metadata": {},
   "outputs": [
    {
     "name": "stdout",
     "output_type": "stream",
     "text": [
      "Audi\n",
      "Maruti\n",
      "Toyota\n",
      "Benz\n",
      "BMW\n"
     ]
    }
   ],
   "source": [
    "for car in cars: #for loop syntax\n",
    "    if car == 'bmw': #Equality testing\n",
    "        print(car.upper())\n",
    "    else:\n",
    "        print(car.title())"
   ]
  },
  {
   "cell_type": "code",
   "execution_count": null,
   "metadata": {},
   "outputs": [],
   "source": []
  },
  {
   "cell_type": "code",
   "execution_count": null,
   "metadata": {},
   "outputs": [],
   "source": []
  },
  {
   "cell_type": "code",
   "execution_count": null,
   "metadata": {},
   "outputs": [],
   "source": []
  },
  {
   "cell_type": "code",
   "execution_count": null,
   "metadata": {},
   "outputs": [],
   "source": []
  }
 ],
 "metadata": {
  "kernelspec": {
   "display_name": "Python 3",
   "language": "python",
   "name": "python3"
  },
  "language_info": {
   "codemirror_mode": {
    "name": "ipython",
    "version": 3
   },
   "file_extension": ".py",
   "mimetype": "text/x-python",
   "name": "python",
   "nbconvert_exporter": "python",
   "pygments_lexer": "ipython3",
   "version": "3.7.6"
  }
 },
 "nbformat": 4,
 "nbformat_minor": 4
}
