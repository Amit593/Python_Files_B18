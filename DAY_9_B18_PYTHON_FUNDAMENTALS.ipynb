{
 "cells": [
  {
   "cell_type": "code",
   "execution_count": null,
   "metadata": {},
   "outputs": [],
   "source": [
    "# Looping through Dictionary:*****"
   ]
  },
  {
   "cell_type": "code",
   "execution_count": 1,
   "metadata": {},
   "outputs": [],
   "source": [
    "user1 = {'f_name':'code','1name':'training','username':'codetraining01','pwd':'12345','dob':'01-01-2019'}"
   ]
  },
  {
   "cell_type": "code",
   "execution_count": 2,
   "metadata": {},
   "outputs": [
    {
     "name": "stdout",
     "output_type": "stream",
     "text": [
      "{'f_name': 'code', '1name': 'training', 'username': 'codetraining01', 'pwd': '12345', 'dob': '01-01-2019'}\n"
     ]
    }
   ],
   "source": [
    "print(user1)"
   ]
  },
  {
   "cell_type": "code",
   "execution_count": null,
   "metadata": {},
   "outputs": [],
   "source": []
  },
  {
   "cell_type": "code",
   "execution_count": null,
   "metadata": {},
   "outputs": [],
   "source": [
    "# How do you loop through a dictionary?"
   ]
  },
  {
   "cell_type": "code",
   "execution_count": 9,
   "metadata": {},
   "outputs": [
    {
     "name": "stdout",
     "output_type": "stream",
     "text": [
      "key:f_name\n",
      "value:code\n",
      "key:1name\n",
      "value:training\n",
      "key:username\n",
      "value:codetraining01\n",
      "key:pwd\n",
      "value:12345\n",
      "key:dob\n",
      "value:01-01-2019\n"
     ]
    }
   ],
   "source": [
    "for key,value in user1.items():\n",
    "    print(f\"key:{key}\")\n",
    "    print(f\"value:{value}\")"
   ]
  },
  {
   "cell_type": "code",
   "execution_count": null,
   "metadata": {},
   "outputs": [],
   "source": []
  },
  {
   "cell_type": "code",
   "execution_count": null,
   "metadata": {},
   "outputs": [],
   "source": [
    "# Genral syntax:"
   ]
  },
  {
   "cell_type": "code",
   "execution_count": 6,
   "metadata": {},
   "outputs": [
    {
     "name": "stdout",
     "output_type": "stream",
     "text": [
      "key:f_name\n",
      "value:code\n",
      "key:1name\n",
      "value:training\n",
      "key:username\n",
      "value:codetraining01\n",
      "key:pwd\n",
      "value:12345\n",
      "key:dob\n",
      "value:01-01-2019\n"
     ]
    }
   ],
   "source": [
    "for x,y in user1.items():\n",
    "    print(f\"key:{x}\")\n",
    "    print(f\"value:{y}\")"
   ]
  },
  {
   "cell_type": "code",
   "execution_count": null,
   "metadata": {},
   "outputs": [],
   "source": [
    "# .items---->both(key,value)"
   ]
  },
  {
   "cell_type": "code",
   "execution_count": null,
   "metadata": {},
   "outputs": [],
   "source": [
    "# for tempvar in mainvar:\n",
    "\n",
    "#print(tempvar)"
   ]
  },
  {
   "cell_type": "code",
   "execution_count": null,
   "metadata": {},
   "outputs": [],
   "source": [
    "#KEY-VALUE:Dictionary datatype, we willbe able to define the two temp variable."
   ]
  },
  {
   "cell_type": "code",
   "execution_count": null,
   "metadata": {},
   "outputs": [],
   "source": []
  },
  {
   "cell_type": "code",
   "execution_count": 10,
   "metadata": {},
   "outputs": [],
   "source": [
    "#Enhancement of the code:KEY,VALUE together jointly."
   ]
  },
  {
   "cell_type": "code",
   "execution_count": 14,
   "metadata": {},
   "outputs": [
    {
     "name": "stdout",
     "output_type": "stream",
     "text": [
      "\n",
      "key:f_name\n",
      "value:code\n",
      "\n",
      "key:1name\n",
      "value:training\n",
      "\n",
      "key:username\n",
      "value:codetraining01\n",
      "\n",
      "key:pwd\n",
      "value:12345\n",
      "\n",
      "key:dob\n",
      "value:01-01-2019\n"
     ]
    }
   ],
   "source": [
    "for x,y in user1.items():\n",
    "    print(f\"\\nkey:{x}\") #\\n \n",
    "    print(f\"value:{y}\")"
   ]
  },
  {
   "cell_type": "code",
   "execution_count": null,
   "metadata": {},
   "outputs": [],
   "source": [
    "# I want to get only keys in the output?"
   ]
  },
  {
   "cell_type": "code",
   "execution_count": 20,
   "metadata": {},
   "outputs": [
    {
     "name": "stdout",
     "output_type": "stream",
     "text": [
      "f_name\n",
      "1name\n",
      "username\n",
      "pwd\n",
      "dob\n"
     ]
    }
   ],
   "source": [
    "for a,b in user1.items():\n",
    "    print(a)"
   ]
  },
  {
   "cell_type": "code",
   "execution_count": 23,
   "metadata": {},
   "outputs": [
    {
     "name": "stdout",
     "output_type": "stream",
     "text": [
      "f_name\n",
      "1name\n",
      "username\n",
      "pwd\n",
      "dob\n"
     ]
    }
   ],
   "source": [
    "for a in user1.keys():# This correct syntax\n",
    "    print(a)"
   ]
  },
  {
   "cell_type": "code",
   "execution_count": 24,
   "metadata": {},
   "outputs": [],
   "source": [
    "# I want to get only values in the output?"
   ]
  },
  {
   "cell_type": "code",
   "execution_count": 25,
   "metadata": {},
   "outputs": [
    {
     "name": "stdout",
     "output_type": "stream",
     "text": [
      "code\n",
      "training\n",
      "codetraining01\n",
      "12345\n",
      "01-01-2019\n"
     ]
    }
   ],
   "source": [
    "for a in user1.values(): # this code syntax\n",
    "    print(a)"
   ]
  },
  {
   "cell_type": "code",
   "execution_count": 26,
   "metadata": {},
   "outputs": [
    {
     "name": "stdout",
     "output_type": "stream",
     "text": [
      "code\n",
      "training\n",
      "codetraining01\n",
      "12345\n",
      "01-01-2019\n"
     ]
    }
   ],
   "source": [
    "for a,b in user1.items():\n",
    "    print(b)"
   ]
  },
  {
   "cell_type": "code",
   "execution_count": null,
   "metadata": {},
   "outputs": [],
   "source": []
  },
  {
   "cell_type": "code",
   "execution_count": null,
   "metadata": {},
   "outputs": [],
   "source": [
    "# Req: I am conducting a survey for a group of students to choose their fav_language:"
   ]
  },
  {
   "cell_type": "code",
   "execution_count": 57,
   "metadata": {},
   "outputs": [],
   "source": [
    "fav_language = {'ashok':'c','ravali':'python','satya':'pascal','suresh':'python','devi':'cobol'}"
   ]
  },
  {
   "cell_type": "code",
   "execution_count": 58,
   "metadata": {},
   "outputs": [
    {
     "name": "stdout",
     "output_type": "stream",
     "text": [
      "{'ashok': 'c', 'ravali': 'python', 'satya': 'pascal', 'suresh': 'python', 'devi': 'cobol'}\n"
     ]
    }
   ],
   "source": [
    "print(fav_language)"
   ]
  },
  {
   "cell_type": "code",
   "execution_count": 59,
   "metadata": {},
   "outputs": [
    {
     "data": {
      "text/plain": [
       "dict"
      ]
     },
     "execution_count": 59,
     "metadata": {},
     "output_type": "execute_result"
    }
   ],
   "source": [
    "type(fav_language)"
   ]
  },
  {
   "cell_type": "code",
   "execution_count": 60,
   "metadata": {},
   "outputs": [],
   "source": [
    "# I have to display the results to each and everyone."
   ]
  },
  {
   "cell_type": "code",
   "execution_count": 61,
   "metadata": {},
   "outputs": [
    {
     "name": "stdout",
     "output_type": "stream",
     "text": [
      "Ashok's favourite language is C.\n",
      "Ravali's favourite language is Python.\n",
      "Satya's favourite language is Pascal.\n",
      "Suresh's favourite language is Python.\n",
      "Devi's favourite language is Cobol.\n"
     ]
    }
   ],
   "source": [
    "for name1,language1 in fav_language.items():\n",
    "    print(f\"{name1.title()}'s favourite language is {language1.title()}.\")\n",
    "    \n",
    "          #{language.title()}.\")"
   ]
  },
  {
   "cell_type": "code",
   "execution_count": null,
   "metadata": {},
   "outputs": [],
   "source": []
  },
  {
   "cell_type": "code",
   "execution_count": null,
   "metadata": {},
   "outputs": [],
   "source": []
  },
  {
   "cell_type": "code",
   "execution_count": null,
   "metadata": {},
   "outputs": [],
   "source": []
  }
 ],
 "metadata": {
  "kernelspec": {
   "display_name": "Python 3",
   "language": "python",
   "name": "python3"
  },
  "language_info": {
   "codemirror_mode": {
    "name": "ipython",
    "version": 3
   },
   "file_extension": ".py",
   "mimetype": "text/x-python",
   "name": "python",
   "nbconvert_exporter": "python",
   "pygments_lexer": "ipython3",
   "version": "3.7.6"
  }
 },
 "nbformat": 4,
 "nbformat_minor": 4
}
